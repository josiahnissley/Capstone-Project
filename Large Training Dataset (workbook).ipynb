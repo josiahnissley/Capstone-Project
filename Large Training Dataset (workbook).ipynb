{
 "cells": [
  {
   "cell_type": "markdown",
   "id": "204380ec",
   "metadata": {},
   "source": [
    "# Import Packages & Create Dataframes"
   ]
  },
  {
   "cell_type": "code",
   "execution_count": 1,
   "id": "8f3d8da3",
   "metadata": {},
   "outputs": [],
   "source": [
    "#import packages\n",
    "import pandas as pd\n",
    "import pyspark"
   ]
  },
  {
   "cell_type": "code",
   "execution_count": 2,
   "id": "bc224c49",
   "metadata": {},
   "outputs": [],
   "source": [
    "#import news file\n",
    "behaviors = pd.read_csv(r\"C:\\Users\\josia\\Desktop\\Capstone_Project\\MINDlarge_train\\behaviors.tsv\", sep='\\t')"
   ]
  },
  {
   "cell_type": "code",
   "execution_count": 3,
   "id": "484eb4f3",
   "metadata": {},
   "outputs": [],
   "source": [
    "#import behaviors file\n",
    "news = pd.read_csv(r\"C:\\Users\\josia\\Desktop\\Capstone_Project\\MINDlarge_train\\news.tsv\", sep='\\t')"
   ]
  },
  {
   "cell_type": "code",
   "execution_count": 4,
   "id": "9be9ae64",
   "metadata": {},
   "outputs": [],
   "source": [
    "#convert behavior data to datafram\n",
    "b_df = pd.DataFrame(behaviors)"
   ]
  },
  {
   "cell_type": "code",
   "execution_count": 5,
   "id": "ac42e9dc",
   "metadata": {},
   "outputs": [],
   "source": [
    "#convert news data to dataframe\n",
    "n_df = pd.DataFrame(news)"
   ]
  },
  {
   "cell_type": "markdown",
   "id": "d240a15d",
   "metadata": {},
   "source": [
    "# Wrangle the behavior data"
   ]
  },
  {
   "cell_type": "code",
   "execution_count": 6,
   "id": "93c4cf7f",
   "metadata": {},
   "outputs": [
    {
     "name": "stdout",
     "output_type": "stream",
     "text": [
      "<class 'pandas.core.frame.DataFrame'>\n",
      "RangeIndex: 2232747 entries, 0 to 2232746\n",
      "Data columns (total 5 columns):\n",
      " #   Column                                                                                                                                                                     Dtype \n",
      "---  ------                                                                                                                                                                     ----- \n",
      " 0   1                                                                                                                                                                          int64 \n",
      " 1   U87243                                                                                                                                                                     object\n",
      " 2   11/10/2019 11:30:54 AM                                                                                                                                                     object\n",
      " 3   N8668 N39081 N65259 N79529 N73408 N43615 N29379 N32031 N110232 N101921 N12614 N129591 N105760 N60457 N1229 N64932                                                          object\n",
      " 4   N78206-0 N26368-0 N7578-0 N58592-0 N19858-0 N58258-0 N18478-0 N2591-0 N97778-0 N32954-0 N94157-1 N39404-0 N108809-0 N78699-1 N71090-1 N40282-0 N31174-1 N37924-0 N27822-0  object\n",
      "dtypes: int64(1), object(4)\n",
      "memory usage: 85.2+ MB\n"
     ]
    }
   ],
   "source": [
    "b_df.info()"
   ]
  },
  {
   "cell_type": "code",
   "execution_count": 7,
   "id": "3580243e",
   "metadata": {},
   "outputs": [
    {
     "name": "stdout",
     "output_type": "stream",
     "text": [
      "   1   U87243  11/10/2019 11:30:54 AM  \\\n",
      "0  2  U598644   11/12/2019 1:45:29 PM   \n",
      "1  3  U532401  11/13/2019 11:23:03 AM   \n",
      "2  4  U593596  11/12/2019 12:24:09 PM   \n",
      "3  5  U239687   11/14/2019 8:03:01 PM   \n",
      "4  6  U521853  11/11/2019 10:47:31 AM   \n",
      "\n",
      "  N8668 N39081 N65259 N79529 N73408 N43615 N29379 N32031 N110232 N101921 N12614 N129591 N105760 N60457 N1229 N64932  \\\n",
      "0  N56056 N8726 N70353 N67998 N83823 N111108 N107...                                                                  \n",
      "1  N128643 N87446 N122948 N9375 N82348 N129412 N5...                                                                  \n",
      "2  N31043 N39592 N4104 N8223 N114581 N92747 N1207...                                                                  \n",
      "3  N65250 N122359 N71723 N53796 N41663 N41484 N11...                                                                  \n",
      "4  N8668 N29136 N128643 N9740 N9375 N52911 N12090...                                                                  \n",
      "\n",
      "  N78206-0 N26368-0 N7578-0 N58592-0 N19858-0 N58258-0 N18478-0 N2591-0 N97778-0 N32954-0 N94157-1 N39404-0 N108809-0 N78699-1 N71090-1 N40282-0 N31174-1 N37924-0 N27822-0  \n",
      "0  N47996-0 N82719-0 N117066-0 N8491-0 N123784-0 ...                                                                                                                         \n",
      "1              N103852-0 N53474-0 N127836-0 N47925-1                                                                                                                         \n",
      "2  N38902-0 N76434-0 N71593-0 N100073-0 N108736-0...                                                                                                                         \n",
      "3  N76209-0 N48841-0 N67937-0 N62235-0 N6307-0 N3...                                                                                                                         \n",
      "4                N32154-0 N67747-0 N47257-0 N98178-1                                                                                                                         \n"
     ]
    }
   ],
   "source": [
    "print(b_df.head())"
   ]
  },
  {
   "cell_type": "code",
   "execution_count": 8,
   "id": "d802e24f",
   "metadata": {},
   "outputs": [],
   "source": [
    "#Create column names based on dataset legend found elsewhere\n",
    "b_column_names = ['Impression_ID', 'User_ID', 'Time', 'History', 'Impressions']\n",
    "b_df.columns = b_column_names"
   ]
  },
  {
   "cell_type": "code",
   "execution_count": 9,
   "id": "0c6bece8",
   "metadata": {},
   "outputs": [
    {
     "name": "stdout",
     "output_type": "stream",
     "text": [
      "   Impression_ID  User_ID                    Time  \\\n",
      "0              2  U598644   11/12/2019 1:45:29 PM   \n",
      "1              3  U532401  11/13/2019 11:23:03 AM   \n",
      "2              4  U593596  11/12/2019 12:24:09 PM   \n",
      "3              5  U239687   11/14/2019 8:03:01 PM   \n",
      "4              6  U521853  11/11/2019 10:47:31 AM   \n",
      "\n",
      "                                             History  \\\n",
      "0  N56056 N8726 N70353 N67998 N83823 N111108 N107...   \n",
      "1  N128643 N87446 N122948 N9375 N82348 N129412 N5...   \n",
      "2  N31043 N39592 N4104 N8223 N114581 N92747 N1207...   \n",
      "3  N65250 N122359 N71723 N53796 N41663 N41484 N11...   \n",
      "4  N8668 N29136 N128643 N9740 N9375 N52911 N12090...   \n",
      "\n",
      "                                         Impressions  \n",
      "0  N47996-0 N82719-0 N117066-0 N8491-0 N123784-0 ...  \n",
      "1              N103852-0 N53474-0 N127836-0 N47925-1  \n",
      "2  N38902-0 N76434-0 N71593-0 N100073-0 N108736-0...  \n",
      "3  N76209-0 N48841-0 N67937-0 N62235-0 N6307-0 N3...  \n",
      "4                N32154-0 N67747-0 N47257-0 N98178-1  \n"
     ]
    }
   ],
   "source": [
    "print(b_df.head())"
   ]
  },
  {
   "cell_type": "code",
   "execution_count": 10,
   "id": "b8a81ed9",
   "metadata": {},
   "outputs": [
    {
     "name": "stdout",
     "output_type": "stream",
     "text": [
      "0    N47996-0 N82719-0 N117066-0 N8491-0 N123784-0 ...\n",
      "1                N103852-0 N53474-0 N127836-0 N47925-1\n",
      "2    N38902-0 N76434-0 N71593-0 N100073-0 N108736-0...\n",
      "3    N76209-0 N48841-0 N67937-0 N62235-0 N6307-0 N3...\n",
      "4                  N32154-0 N67747-0 N47257-0 N98178-1\n",
      "Name: Impressions, dtype: object\n"
     ]
    }
   ],
   "source": [
    "print(b_df['Impressions'].head())"
   ]
  },
  {
   "cell_type": "markdown",
   "id": "d210b830",
   "metadata": {},
   "source": [
    "# Wrangle the news data"
   ]
  },
  {
   "cell_type": "code",
   "execution_count": 11,
   "id": "71aa9caf",
   "metadata": {},
   "outputs": [
    {
     "name": "stdout",
     "output_type": "stream",
     "text": [
      "<class 'pandas.core.frame.DataFrame'>\n",
      "RangeIndex: 101526 entries, 0 to 101525\n",
      "Data columns (total 8 columns):\n",
      " #   Column                                                                                                                                                                                                                                                                                                                                                                                                                                                                                  Non-Null Count   Dtype \n",
      "---  ------                                                                                                                                                                                                                                                                                                                                                                                                                                                                                  --------------   ----- \n",
      " 0   N88753                                                                                                                                                                                                                                                                                                                                                                                                                                                                                  101526 non-null  object\n",
      " 1   lifestyle                                                                                                                                                                                                                                                                                                                                                                                                                                                                               101526 non-null  object\n",
      " 2   lifestyleroyals                                                                                                                                                                                                                                                                                                                                                                                                                                                                         101526 non-null  object\n",
      " 3   The Brands Queen Elizabeth, Prince Charles, and Prince Philip Swear By                                                                                                                                                                                                                                                                                                                                                                                                                  101526 non-null  object\n",
      " 4   Shop the notebooks, jackets, and more that the royals can't live without.                                                                                                                                                                                                                                                                                                                                                                                                               96111 non-null   object\n",
      " 5   https://assets.msn.com/labs/mind/AAGH0ET.html                                                                                                                                                                                                                                                                                                                                                                                                                                           101526 non-null  object\n",
      " 6   [{\"Label\": \"Prince Philip, Duke of Edinburgh\", \"Type\": \"P\", \"WikidataId\": \"Q80976\", \"Confidence\": 1.0, \"OccurrenceOffsets\": [48], \"SurfaceForms\": [\"Prince Philip\"]}, {\"Label\": \"Charles, Prince of Wales\", \"Type\": \"P\", \"WikidataId\": \"Q43274\", \"Confidence\": 1.0, \"OccurrenceOffsets\": [28], \"SurfaceForms\": [\"Prince Charles\"]}, {\"Label\": \"Elizabeth II\", \"Type\": \"P\", \"WikidataId\": \"Q9682\", \"Confidence\": 0.97, \"OccurrenceOffsets\": [11], \"SurfaceForms\": [\"Queen Elizabeth\"]}]  101523 non-null  object\n",
      " 7   []                                                                                                                                                                                                                                                                                                                                                                                                                                                                                      101520 non-null  object\n",
      "dtypes: object(8)\n",
      "memory usage: 6.2+ MB\n"
     ]
    }
   ],
   "source": [
    "n_df.info()"
   ]
  },
  {
   "cell_type": "code",
   "execution_count": 12,
   "id": "a92fc363",
   "metadata": {},
   "outputs": [
    {
     "name": "stdout",
     "output_type": "stream",
     "text": [
      "   N88753 lifestyle           lifestyleroyals  \\\n",
      "0  N45436      news  newsscienceandtechnology   \n",
      "1  N23144    health                weightloss   \n",
      "2  N86255    health                   medical   \n",
      "3  N93187      news                 newsworld   \n",
      "4  N75236    health                    voices   \n",
      "\n",
      "  The Brands Queen Elizabeth, Prince Charles, and Prince Philip Swear By  \\\n",
      "0    Walmart Slashes Prices on Last-Generation iPads                       \n",
      "1                      50 Worst Habits For Belly Fat                       \n",
      "2  Dispose of unwanted prescription drugs during ...                       \n",
      "3  The Cost of Trump's Aid Freeze in the Trenches...                       \n",
      "4  I Was An NBA Wife. Here's How It Affected My M...                       \n",
      "\n",
      "  Shop the notebooks, jackets, and more that the royals can't live without.  \\\n",
      "0  Apple's new iPad releases bring big deals on l...                          \n",
      "1  These seemingly harmless habits are holding yo...                          \n",
      "2                                                NaN                          \n",
      "3  Lt. Ivan Molchanets peeked over a parapet of s...                          \n",
      "4  I felt like I was a fraud, and being an NBA wi...                          \n",
      "\n",
      "   https://assets.msn.com/labs/mind/AAGH0ET.html  \\\n",
      "0  https://assets.msn.com/labs/mind/AABmf2I.html   \n",
      "1  https://assets.msn.com/labs/mind/AAB19MK.html   \n",
      "2  https://assets.msn.com/labs/mind/AAISxPN.html   \n",
      "3  https://assets.msn.com/labs/mind/AAJgNsz.html   \n",
      "4  https://assets.msn.com/labs/mind/AACk2N6.html   \n",
      "\n",
      "  [{\"Label\": \"Prince Philip, Duke of Edinburgh\", \"Type\": \"P\", \"WikidataId\": \"Q80976\", \"Confidence\": 1.0, \"OccurrenceOffsets\": [48], \"SurfaceForms\": [\"Prince Philip\"]}, {\"Label\": \"Charles, Prince of Wales\", \"Type\": \"P\", \"WikidataId\": \"Q43274\", \"Confidence\": 1.0, \"OccurrenceOffsets\": [28], \"SurfaceForms\": [\"Prince Charles\"]}, {\"Label\": \"Elizabeth II\", \"Type\": \"P\", \"WikidataId\": \"Q9682\", \"Confidence\": 0.97, \"OccurrenceOffsets\": [11], \"SurfaceForms\": [\"Queen Elizabeth\"]}]  \\\n",
      "0  [{\"Label\": \"IPad\", \"Type\": \"J\", \"WikidataId\": ...                                                                                                                                                                                                                                                                                                                                                                                                                                       \n",
      "1  [{\"Label\": \"Adipose tissue\", \"Type\": \"C\", \"Wik...                                                                                                                                                                                                                                                                                                                                                                                                                                       \n",
      "2  [{\"Label\": \"Drug Enforcement Administration\", ...                                                                                                                                                                                                                                                                                                                                                                                                                                       \n",
      "3                                                 []                                                                                                                                                                                                                                                                                                                                                                                                                                       \n",
      "4                                                 []                                                                                                                                                                                                                                                                                                                                                                                                                                       \n",
      "\n",
      "                                                  []  \n",
      "0  [{\"Label\": \"IPad\", \"Type\": \"J\", \"WikidataId\": ...  \n",
      "1  [{\"Label\": \"Adipose tissue\", \"Type\": \"C\", \"Wik...  \n",
      "2                                                 []  \n",
      "3  [{\"Label\": \"Ukraine\", \"Type\": \"G\", \"WikidataId...  \n",
      "4  [{\"Label\": \"National Basketball Association\", ...  \n"
     ]
    }
   ],
   "source": [
    "print(n_df.head())"
   ]
  },
  {
   "cell_type": "code",
   "execution_count": 13,
   "id": "38db4857",
   "metadata": {},
   "outputs": [],
   "source": [
    "#Create column names based on dataset legend found elsewhere\n",
    "n_column_names = ['News_ID', 'Category', 'Subcategory', 'Title', 'Abstract', 'URL', 'Title_Entities', 'Abstract_Entities']\n",
    "n_df.columns = n_column_names"
   ]
  },
  {
   "cell_type": "code",
   "execution_count": 14,
   "id": "705ac58d",
   "metadata": {},
   "outputs": [
    {
     "name": "stdout",
     "output_type": "stream",
     "text": [
      "  News_ID Category               Subcategory  \\\n",
      "0  N45436     news  newsscienceandtechnology   \n",
      "1  N23144   health                weightloss   \n",
      "2  N86255   health                   medical   \n",
      "3  N93187     news                 newsworld   \n",
      "4  N75236   health                    voices   \n",
      "\n",
      "                                               Title  \\\n",
      "0    Walmart Slashes Prices on Last-Generation iPads   \n",
      "1                      50 Worst Habits For Belly Fat   \n",
      "2  Dispose of unwanted prescription drugs during ...   \n",
      "3  The Cost of Trump's Aid Freeze in the Trenches...   \n",
      "4  I Was An NBA Wife. Here's How It Affected My M...   \n",
      "\n",
      "                                            Abstract  \\\n",
      "0  Apple's new iPad releases bring big deals on l...   \n",
      "1  These seemingly harmless habits are holding yo...   \n",
      "2                                                NaN   \n",
      "3  Lt. Ivan Molchanets peeked over a parapet of s...   \n",
      "4  I felt like I was a fraud, and being an NBA wi...   \n",
      "\n",
      "                                             URL  \\\n",
      "0  https://assets.msn.com/labs/mind/AABmf2I.html   \n",
      "1  https://assets.msn.com/labs/mind/AAB19MK.html   \n",
      "2  https://assets.msn.com/labs/mind/AAISxPN.html   \n",
      "3  https://assets.msn.com/labs/mind/AAJgNsz.html   \n",
      "4  https://assets.msn.com/labs/mind/AACk2N6.html   \n",
      "\n",
      "                                      Title_Entities  \\\n",
      "0  [{\"Label\": \"IPad\", \"Type\": \"J\", \"WikidataId\": ...   \n",
      "1  [{\"Label\": \"Adipose tissue\", \"Type\": \"C\", \"Wik...   \n",
      "2  [{\"Label\": \"Drug Enforcement Administration\", ...   \n",
      "3                                                 []   \n",
      "4                                                 []   \n",
      "\n",
      "                                   Abstract_Entities  \n",
      "0  [{\"Label\": \"IPad\", \"Type\": \"J\", \"WikidataId\": ...  \n",
      "1  [{\"Label\": \"Adipose tissue\", \"Type\": \"C\", \"Wik...  \n",
      "2                                                 []  \n",
      "3  [{\"Label\": \"Ukraine\", \"Type\": \"G\", \"WikidataId...  \n",
      "4  [{\"Label\": \"National Basketball Association\", ...  \n"
     ]
    }
   ],
   "source": [
    "print(n_df.head())"
   ]
  },
  {
   "cell_type": "markdown",
   "id": "81039e12",
   "metadata": {},
   "source": [
    "# A look at the data"
   ]
  },
  {
   "cell_type": "raw",
   "id": "41e89dd9",
   "metadata": {},
   "source": [
    "Behavior Data: \n",
    "\n",
    "Impression ID = The ID of an impression.\n",
    "User ID = The anonymous ID of a user.\n",
    "Time = The impression time with format “MM/DD/YYYY HH:MM:SS AM/PM”.\n",
    "History = The news click history (ID list of clicked news) of this user before this impression.\n",
    "Impressions = List of news displayed in this impression and user’s click behaviors on them (1 for click and 0 for non-click).\n",
    "\n",
    "COLUMN\tCONTENT\n",
    "Impression ID:\t123\n",
    "User ID:\tU131\n",
    "Time:\t11/13/2019 8:36:57 AM\n",
    "History:\tN11 N21 N103\n",
    "Impressions:\tN4-1 N34-1 N156-0 N207-0 N198-0\n",
    "\n",
    "\n",
    "______________________________________________________________________________\n",
    "\n",
    "\n",
    "\n",
    "News Data:\n",
    "\n",
    "News ID = ID of news article\n",
    "Category = Category of article\n",
    "Subcategory = Subcategory of article\n",
    "Title = Title of article\n",
    "Abstract = Abstract of article\n",
    "URL = URL of article\n",
    "Title Entities = Entities contained in the title of this news\n",
    "Abstract Entities = Entities contained in the abstract of this news\n",
    "\n",
    "COLUMN CONTENT\n",
    "News ID\tN37378\n",
    "Category\tsports\n",
    "SubCategory\tgolf\n",
    "Title\tPGA Tour winners\n",
    "Abstract\tA gallery of recent winners on the PGA Tour.\n",
    "URL\thttps://www.msn.com/en-us/sports/golf/pga-tour-winners/ss-AAjnQjj?ocid=chopendata\n",
    "Title Entities [{“Label”: “PGA Tour”, “Type”: “O”, “WikidataId”: “Q910409”, “Confidence”: 1.0, “OccurrenceOffsets”: [0], “SurfaceForms”: [“PGA Tour”]}]\n",
    "Abstract Entites [{“Label”: “PGA Tour”, “Type”: “O”, “WikidataId”: “Q910409”, “Confidence”: 1.0, “OccurrenceOffsets”: [35], “SurfaceForms”: [“PGA Tour”]}]\n",
    "\n",
    "______________________________________________________________________________\n",
    "\n",
    "What Data do I need?\n",
    "\n",
    "User-Item matrix:\n",
    "    Users = User_ID (from b_df)\n",
    "    Items = News_ID (from n_df)\n",
    "    \n",
    "Potential User-Item Interaction Data\n",
    "    Binary Interactions\n",
    "        - Impressions\n",
    "        - History\n",
    "        - Impression ID\n",
    "        - Time\n",
    "        \n",
    "What Data do I not need for my user-item matrix?\n",
    "\n",
    "- URL\n",
    "- Title Entries\n",
    "- Abstract\n",
    "- ????"
   ]
  },
  {
   "cell_type": "markdown",
   "id": "3c892219",
   "metadata": {},
   "source": [
    "# Drop Columns from News Data"
   ]
  },
  {
   "cell_type": "code",
   "execution_count": 15,
   "id": "7807eac9",
   "metadata": {},
   "outputs": [],
   "source": [
    "news_columns_to_drop = ['Category', 'Subcategory', 'Title', 'Abstract', 'URL', 'Title_Entities', 'Abstract_Entities']\n",
    "\n",
    "n_df_matrix = n_df.drop(news_columns_to_drop, axis =1)"
   ]
  },
  {
   "cell_type": "code",
   "execution_count": 16,
   "id": "aec9e5b1",
   "metadata": {},
   "outputs": [
    {
     "name": "stdout",
     "output_type": "stream",
     "text": [
      "Index(['News_ID'], dtype='object')\n"
     ]
    }
   ],
   "source": [
    "print(n_df_matrix.columns)"
   ]
  },
  {
   "cell_type": "code",
   "execution_count": 17,
   "id": "44937487",
   "metadata": {},
   "outputs": [
    {
     "name": "stdout",
     "output_type": "stream",
     "text": [
      "News_ID    0\n",
      "dtype: int64\n"
     ]
    }
   ],
   "source": [
    "#check for missing values\n",
    "missing_counts_n = n_df_matrix.isnull().sum()\n",
    "print(missing_counts_n)"
   ]
  },
  {
   "cell_type": "code",
   "execution_count": 18,
   "id": "fbd75e04",
   "metadata": {},
   "outputs": [
    {
     "name": "stdout",
     "output_type": "stream",
     "text": [
      "0\n"
     ]
    }
   ],
   "source": [
    "#check for duplicate values\n",
    "duplicated_values_n = n_df_matrix.duplicated().sum()\n",
    "print(duplicated_values_n)"
   ]
  },
  {
   "cell_type": "code",
   "execution_count": 19,
   "id": "4c2a0711",
   "metadata": {},
   "outputs": [
    {
     "name": "stdout",
     "output_type": "stream",
     "text": [
      "       News_ID\n",
      "6727        N1\n",
      "72351     N100\n",
      "48336    N1000\n",
      "3156    N10000\n",
      "81015  N100000\n",
      "...        ...\n",
      "48825   N99993\n",
      "36398   N99995\n",
      "68559   N99996\n",
      "37448   N99998\n",
      "82537   N99999\n",
      "\n",
      "[101526 rows x 1 columns]\n"
     ]
    }
   ],
   "source": [
    "#quick look at sorted data\n",
    "print(n_df_matrix.sort_values(by = 'News_ID'))"
   ]
  },
  {
   "cell_type": "markdown",
   "id": "97bd91db",
   "metadata": {},
   "source": [
    "The Item-based component of the matrix is cleaned and ready to go"
   ]
  },
  {
   "cell_type": "markdown",
   "id": "5715d617",
   "metadata": {},
   "source": [
    "# Wrangle the Behavior data 2.0"
   ]
  },
  {
   "cell_type": "code",
   "execution_count": 20,
   "id": "c3192f84",
   "metadata": {},
   "outputs": [],
   "source": [
    "#Group data by User ID\n",
    "b_df_g = b_df.sort_values(by = 'User_ID')"
   ]
  },
  {
   "cell_type": "code",
   "execution_count": 21,
   "id": "78e24f63",
   "metadata": {},
   "outputs": [
    {
     "name": "stdout",
     "output_type": "stream",
     "text": [
      "Impression_ID        0\n",
      "User_ID              0\n",
      "Time                 0\n",
      "History          46065\n",
      "Impressions          0\n",
      "dtype: int64\n"
     ]
    }
   ],
   "source": [
    "#Check for missing values\n",
    "b_df_g_missing = b_df_g.isnull().sum()\n",
    "print(b_df_g_missing)"
   ]
  },
  {
   "cell_type": "code",
   "execution_count": 22,
   "id": "5998479a",
   "metadata": {},
   "outputs": [],
   "source": [
    "#Examine type of missing value\n",
    "b_df_g_hist_miss = b_df_g['History'].isnull()"
   ]
  },
  {
   "cell_type": "code",
   "execution_count": 23,
   "id": "821b28d1",
   "metadata": {},
   "outputs": [
    {
     "name": "stdout",
     "output_type": "stream",
     "text": [
      "473091     False\n",
      "920616     False\n",
      "461067     False\n",
      "1797300    False\n",
      "1429215    False\n",
      "           ...  \n",
      "2029812    False\n",
      "439824     False\n",
      "109774     False\n",
      "644239     False\n",
      "582674     False\n",
      "Name: History, Length: 2232747, dtype: bool\n"
     ]
    }
   ],
   "source": [
    "print(b_df_g_hist_miss)"
   ]
  },
  {
   "cell_type": "code",
   "execution_count": 24,
   "id": "28c93a7d",
   "metadata": {},
   "outputs": [
    {
     "name": "stdout",
     "output_type": "stream",
     "text": [
      "Impression_ID    0\n",
      "User_ID          0\n",
      "Time             0\n",
      "History          0\n",
      "Impressions      0\n",
      "dtype: int64\n"
     ]
    }
   ],
   "source": [
    "#Drop all rows with missing value\n",
    "b_df_g_drop = b_df_g.dropna()\n",
    "print(b_df_g_drop.isnull().sum())"
   ]
  },
  {
   "cell_type": "code",
   "execution_count": 25,
   "id": "02cbb9fa",
   "metadata": {},
   "outputs": [
    {
     "name": "stdout",
     "output_type": "stream",
     "text": [
      "2186682\n"
     ]
    }
   ],
   "source": [
    "#Check to see how many remaining rows with data there are\n",
    "print(b_df_g_drop.shape[0])"
   ]
  },
  {
   "cell_type": "code",
   "execution_count": 26,
   "id": "ca63dbd5",
   "metadata": {},
   "outputs": [
    {
     "name": "stdout",
     "output_type": "stream",
     "text": [
      "        User_ID                                            History  \\\n",
      "473091       U0  N39011 N112324 N78884 N111503 N63941 N68426 N1...   \n",
      "920616       U0  N39011 N112324 N78884 N111503 N63941 N68426 N1...   \n",
      "461067       U1  N14639 N27258 N63237 N112729 N42180 N109816 N7...   \n",
      "1797300      U1  N14639 N27258 N63237 N112729 N42180 N109816 N7...   \n",
      "1429215      U1  N14639 N27258 N63237 N112729 N42180 N109816 N7...   \n",
      "...         ...                                                ...   \n",
      "2029812  U99998  N11631 N56746 N91597 N99305 N2099 N42718 N8002...   \n",
      "439824   U99998  N11631 N56746 N91597 N99305 N2099 N42718 N8002...   \n",
      "109774   U99998  N11631 N56746 N91597 N99305 N2099 N42718 N8002...   \n",
      "644239   U99998  N11631 N56746 N91597 N99305 N2099 N42718 N8002...   \n",
      "582674   U99999                        N85484 N34094 N17892 N12027   \n",
      "\n",
      "                                               Impressions  \n",
      "473091   N73137-0 N53751-0 N6865-0 N122343-0 N116601-0 ...  \n",
      "920616   N110603-0 N109852-0 N123028-0 N46380-0 N117695...  \n",
      "461067   N118471-0 N87913-0 N78847-0 N43955-0 N99507-0 ...  \n",
      "1797300  N121052-0 N89932-0 N75494-0 N84591-0 N39259-0 ...  \n",
      "1429215  N87913-0 N84706-0 N60988-0 N71626-1 N37544-0 N...  \n",
      "...                                                    ...  \n",
      "2029812  N18947-0 N12437-0 N62203-0 N38304-0 N8719-0 N1...  \n",
      "439824   N100073-0 N38902-0 N61850-0 N18539-0 N27097-0 ...  \n",
      "109774   N88472-0 N91716-0 N48263-0 N89409-0 N72609-0 N...  \n",
      "644239   N20889-0 N88472-0 N41315-1 N23031-0 N76677-0 N...  \n",
      "582674   N112227-0 N80994-0 N29928-0 N13279-0 N129969-0...  \n",
      "\n",
      "[2186682 rows x 3 columns]\n"
     ]
    }
   ],
   "source": [
    "#Drop 'Impression_ID' and 'Time' columns as they do not pertain to my use case\n",
    "columns_to_drop = ['Impression_ID', 'Time']\n",
    "b_df_g_c_drop = b_df_g_drop.drop(columns = columns_to_drop)\n",
    "print(b_df_g_c_drop)"
   ]
  },
  {
   "cell_type": "code",
   "execution_count": 27,
   "id": "19dcb5cc",
   "metadata": {},
   "outputs": [],
   "source": [
    "#rename data frame\n",
    "b_df = b_df_g_c_drop"
   ]
  },
  {
   "cell_type": "code",
   "execution_count": 28,
   "id": "2bd900e2",
   "metadata": {},
   "outputs": [
    {
     "data": {
      "text/plain": [
       "User_ID        object\n",
       "History        object\n",
       "Impressions    object\n",
       "dtype: object"
      ]
     },
     "execution_count": 28,
     "metadata": {},
     "output_type": "execute_result"
    }
   ],
   "source": [
    "b_df.dtypes"
   ]
  },
  {
   "cell_type": "code",
   "execution_count": 29,
   "id": "1dde61ae",
   "metadata": {
    "scrolled": true
   },
   "outputs": [
    {
     "name": "stdout",
     "output_type": "stream",
     "text": [
      "       User_ID                                            History  \\\n",
      "0           U0  N39011 N112324 N78884 N111503 N63941 N68426 N1...   \n",
      "1           U1  N14639 N27258 N63237 N112729 N42180 N109816 N7...   \n",
      "2          U10                             N85722 N111503 N104737   \n",
      "3         U100  N99587 N61339 N129790 N12721 N100405 N103530 N...   \n",
      "4        U1000  N33446 N20131 N65823 N65823 N111503 N3992 N104...   \n",
      "...        ...                                                ...   \n",
      "698360  U99995  N71340 N85428 N112324 N72044 N9690 N79909 N232...   \n",
      "698361  U99996  N113476 N54005 N129955 N14121 N73408 N127336 N...   \n",
      "698362  U99997        N108284 N117102 N57945 N24344 N16097 N54360   \n",
      "698363  U99998  N11631 N56746 N91597 N99305 N2099 N42718 N8002...   \n",
      "698364  U99999                        N85484 N34094 N17892 N12027   \n",
      "\n",
      "                                              Impressions  \n",
      "0       N110603-0 N109852-0 N123028-0 N46380-0 N117695...  \n",
      "1       N84235-0 N17464-0 N89932-1 N45124-0 N109344-0 ...  \n",
      "2       N70923-0 N36861-0 N74360-0 N98178-0 N116694-0 ...  \n",
      "3       N122819-0 N109642-0 N33078-0 N23011-0 N114135-...  \n",
      "4                                      N47925-1 N127836-0  \n",
      "...                                                   ...  \n",
      "698360  N118623-1 N5496-0,N125642-0 N32154-0 N3664-0 N...  \n",
      "698361  N110925-0 N29544-0 N105407-0 N25751-0 N48015-0...  \n",
      "698362  N47711-0 N129240-0 N4300-0 N91390-0 N27862-0 N...  \n",
      "698363  N88472-0 N91716-0 N48263-0 N89409-0 N72609-0 N...  \n",
      "698364  N112227-0 N80994-0 N29928-0 N13279-0 N129969-0...  \n",
      "\n",
      "[698365 rows x 3 columns]\n"
     ]
    }
   ],
   "source": [
    "#group data by User_ID\n",
    "grouped_df = b_df.groupby('User_ID').agg({\n",
    "    'History': lambda x: ','.join(x),  # Combine all 'History' values into one string\n",
    "    'Impressions': lambda x: ','.join(x)  # Combine all 'Impressions' values into one string\n",
    "}).reset_index()\n",
    "\n",
    "# Step 2: Remove duplicates within each combined string\n",
    "grouped_df['History'] = grouped_df['History'].apply(lambda x: ','.join(set(x.split(','))))\n",
    "grouped_df['Impressions'] = grouped_df['Impressions'].apply(lambda x: ','.join(set(x.split(','))))\n",
    "\n",
    "print(grouped_df)"
   ]
  },
  {
   "cell_type": "code",
   "execution_count": 30,
   "id": "19a663cf",
   "metadata": {},
   "outputs": [
    {
     "data": {
      "text/plain": [
       "User_ID        object\n",
       "History        object\n",
       "Impressions    object\n",
       "dtype: object"
      ]
     },
     "execution_count": 30,
     "metadata": {},
     "output_type": "execute_result"
    }
   ],
   "source": [
    "grouped_df.dtypes"
   ]
  },
  {
   "cell_type": "code",
   "execution_count": 31,
   "id": "6bc799e2",
   "metadata": {},
   "outputs": [
    {
     "name": "stdout",
     "output_type": "stream",
     "text": [
      "       User_ID                                            History  \\\n",
      "0           U0  N39011-1 N112324-1 N78884-1 N111503-1 N63941-1...   \n",
      "1           U1  N14639-1 N27258-1 N63237-1 N112729-1 N42180-1 ...   \n",
      "2          U10                       N85722-1 N111503-1 N104737-1   \n",
      "3         U100  N99587-1 N61339-1 N129790-1 N12721-1 N100405-1...   \n",
      "4        U1000  N33446-1 N20131-1 N65823-1 N65823-1 N111503-1 ...   \n",
      "...        ...                                                ...   \n",
      "698360  U99995  N71340-1 N85428-1 N112324-1 N72044-1 N9690-1 N...   \n",
      "698361  U99996  N113476-1 N54005-1 N129955-1 N14121-1 N73408-1...   \n",
      "698362  U99997  N108284-1 N117102-1 N57945-1 N24344-1 N16097-1...   \n",
      "698363  U99998  N11631-1 N56746-1 N91597-1 N99305-1 N2099-1 N4...   \n",
      "698364  U99999                N85484-1 N34094-1 N17892-1 N12027-1   \n",
      "\n",
      "                                              Impressions  \n",
      "0       N110603-0 N109852-0 N123028-0 N46380-0 N117695...  \n",
      "1       N84235-0 N17464-0 N89932-1 N45124-0 N109344-0 ...  \n",
      "2       N70923-0 N36861-0 N74360-0 N98178-0 N116694-0 ...  \n",
      "3       N122819-0 N109642-0 N33078-0 N23011-0 N114135-...  \n",
      "4                                      N47925-1 N127836-0  \n",
      "...                                                   ...  \n",
      "698360  N118623-1 N5496-0,N125642-0 N32154-0 N3664-0 N...  \n",
      "698361  N110925-0 N29544-0 N105407-0 N25751-0 N48015-0...  \n",
      "698362  N47711-0 N129240-0 N4300-0 N91390-0 N27862-0 N...  \n",
      "698363  N88472-0 N91716-0 N48263-0 N89409-0 N72609-0 N...  \n",
      "698364  N112227-0 N80994-0 N29928-0 N13279-0 N129969-0...  \n",
      "\n",
      "[698365 rows x 3 columns]\n"
     ]
    }
   ],
   "source": [
    "# Function to add \"-1\" to each ID and join back with spaces\n",
    "def add_suffix_to_ids(ids_string):\n",
    "    ids_list = ids_string.split()  # Split the string of IDs into a list\n",
    "    ids_list_with_suffix = [id + '-1' for id in ids_list]  # Add \"-1\" to each ID\n",
    "    return ' '.join(ids_list_with_suffix)  # Join the modified IDs back with spaces\n",
    "\n",
    "# Apply the function to the 'History' column\n",
    "grouped_df['History'] = grouped_df['History'].apply(add_suffix_to_ids)\n",
    "\n",
    "# Display the updated DataFrame\n",
    "print(grouped_df)"
   ]
  },
  {
   "cell_type": "code",
   "execution_count": 32,
   "id": "4f221ee9",
   "metadata": {},
   "outputs": [
    {
     "name": "stdout",
     "output_type": "stream",
     "text": [
      "       User_ID                                            History  \\\n",
      "0           U0  N39011-1 N112324-1 N78884-1 N111503-1 N63941-1...   \n",
      "1           U1  N14639-1 N27258-1 N63237-1 N112729-1 N42180-1 ...   \n",
      "2          U10                       N85722-1 N111503-1 N104737-1   \n",
      "3         U100  N99587-1 N61339-1 N129790-1 N12721-1 N100405-1...   \n",
      "4        U1000  N33446-1 N20131-1 N65823-1 N65823-1 N111503-1 ...   \n",
      "...        ...                                                ...   \n",
      "698360  U99995  N71340-1 N85428-1 N112324-1 N72044-1 N9690-1 N...   \n",
      "698361  U99996  N113476-1 N54005-1 N129955-1 N14121-1 N73408-1...   \n",
      "698362  U99997  N108284-1 N117102-1 N57945-1 N24344-1 N16097-1...   \n",
      "698363  U99998  N11631-1 N56746-1 N91597-1 N99305-1 N2099-1 N4...   \n",
      "698364  U99999                N85484-1 N34094-1 N17892-1 N12027-1   \n",
      "\n",
      "                                              Impressions  \\\n",
      "0       N110603-0 N109852-0 N123028-0 N46380-0 N117695...   \n",
      "1       N84235-0 N17464-0 N89932-1 N45124-0 N109344-0 ...   \n",
      "2       N70923-0 N36861-0 N74360-0 N98178-0 N116694-0 ...   \n",
      "3       N122819-0 N109642-0 N33078-0 N23011-0 N114135-...   \n",
      "4                                      N47925-1 N127836-0   \n",
      "...                                                   ...   \n",
      "698360  N118623-1 N5496-0,N125642-0 N32154-0 N3664-0 N...   \n",
      "698361  N110925-0 N29544-0 N105407-0 N25751-0 N48015-0...   \n",
      "698362  N47711-0 N129240-0 N4300-0 N91390-0 N27862-0 N...   \n",
      "698363  N88472-0 N91716-0 N48263-0 N89409-0 N72609-0 N...   \n",
      "698364  N112227-0 N80994-0 N29928-0 N13279-0 N129969-0...   \n",
      "\n",
      "                                                 Combined  \n",
      "0       N127593-0 N27723-0 N43955-0 N2598-0 N119419-0 ...  \n",
      "1       N79751-1 N19337-0 N12191-0 N87913-0,N66244-0 N...  \n",
      "2       N98178-0 N36861-0 N116694-0 N85722-1 N70923-0 ...  \n",
      "3       N7617-1 N129790-1 N38902-0 N23011-0 N72919-0,N...  \n",
      "4       N47925-1 N111503-1 N33446-1 N127836-0 N3992-1 ...  \n",
      "...                                                   ...  \n",
      "698360  N72976-1 N83412-0 N113126-0 N23264-1 N43085-0 ...  \n",
      "698361  N87788-1 N76665-1 N13117-1 N14121-1 N127336-1 ...  \n",
      "698362  N95525-0 N116118-0 N47711-0 N8536-0 N73756-0 N...  \n",
      "698363  N65542-0 N67398-0 N100417-0 N96859-0 N1444-0 N...  \n",
      "698364  N95525-0 N85484-1 N12027-1 N10252-0 N17475-0 N...  \n",
      "\n",
      "[698365 rows x 4 columns]\n"
     ]
    }
   ],
   "source": [
    "#combine the history and impressions columns together\n",
    "def combine_history_impressions(row):\n",
    "    history_list = row['History'].split()  # Split 'History' string into a list of IDs\n",
    "    impressions_list = row['Impressions'].split()  # Split 'Impressions' string into a list of IDs\n",
    "    combined_list = list(set(history_list + impressions_list))  # Combine and remove duplicates\n",
    "    combined_string = ' '.join(combined_list)  # Join the combined list back into a string\n",
    "    return combined_string\n",
    "\n",
    "# Apply the function to create a new 'Combined' column\n",
    "grouped_df['Combined'] = grouped_df.apply(combine_history_impressions, axis=1)\n",
    "\n",
    "# Display the updated DataFrame\n",
    "print(grouped_df)"
   ]
  },
  {
   "cell_type": "code",
   "execution_count": 33,
   "id": "a3c5a99c",
   "metadata": {},
   "outputs": [],
   "source": [
    "#drop impressions and history columns\n",
    "column_list = ['Impressions', 'History']\n",
    "grouped_df.drop(columns = column_list, inplace=True)"
   ]
  },
  {
   "cell_type": "code",
   "execution_count": 34,
   "id": "5e4b695c",
   "metadata": {},
   "outputs": [
    {
     "name": "stdout",
     "output_type": "stream",
     "text": [
      "       User_ID                                           Combined\n",
      "0           U0  N127593-0 N27723-0 N43955-0 N2598-0 N119419-0 ...\n",
      "1           U1  N79751-1 N19337-0 N12191-0 N87913-0,N66244-0 N...\n",
      "2          U10  N98178-0 N36861-0 N116694-0 N85722-1 N70923-0 ...\n",
      "3         U100  N7617-1 N129790-1 N38902-0 N23011-0 N72919-0,N...\n",
      "4        U1000  N47925-1 N111503-1 N33446-1 N127836-0 N3992-1 ...\n",
      "...        ...                                                ...\n",
      "698360  U99995  N72976-1 N83412-0 N113126-0 N23264-1 N43085-0 ...\n",
      "698361  U99996  N87788-1 N76665-1 N13117-1 N14121-1 N127336-1 ...\n",
      "698362  U99997  N95525-0 N116118-0 N47711-0 N8536-0 N73756-0 N...\n",
      "698363  U99998  N65542-0 N67398-0 N100417-0 N96859-0 N1444-0 N...\n",
      "698364  U99999  N95525-0 N85484-1 N12027-1 N10252-0 N17475-0 N...\n",
      "\n",
      "[698365 rows x 2 columns]\n"
     ]
    }
   ],
   "source": [
    "print(grouped_df)"
   ]
  },
  {
   "cell_type": "code",
   "execution_count": 35,
   "id": "27be7aae",
   "metadata": {},
   "outputs": [
    {
     "name": "stdout",
     "output_type": "stream",
     "text": [
      "       User_ID                                        Impressions\n",
      "0           U0  N127593-0 N27723-0 N43955-0 N2598-0 N119419-0 ...\n",
      "1           U1  N79751-1 N19337-0 N12191-0 N87913-0,N66244-0 N...\n",
      "2          U10  N98178-0 N36861-0 N116694-0 N85722-1 N70923-0 ...\n",
      "3         U100  N7617-1 N129790-1 N38902-0 N23011-0 N72919-0,N...\n",
      "4        U1000  N47925-1 N111503-1 N33446-1 N127836-0 N3992-1 ...\n",
      "...        ...                                                ...\n",
      "698360  U99995  N72976-1 N83412-0 N113126-0 N23264-1 N43085-0 ...\n",
      "698361  U99996  N87788-1 N76665-1 N13117-1 N14121-1 N127336-1 ...\n",
      "698362  U99997  N95525-0 N116118-0 N47711-0 N8536-0 N73756-0 N...\n",
      "698363  U99998  N65542-0 N67398-0 N100417-0 N96859-0 N1444-0 N...\n",
      "698364  U99999  N95525-0 N85484-1 N12027-1 N10252-0 N17475-0 N...\n",
      "\n",
      "[698365 rows x 2 columns]\n"
     ]
    }
   ],
   "source": [
    "#renamed combined column\n",
    "grouped_df.rename(columns={'Combined': 'Impressions'}, inplace=True)\n",
    "print(grouped_df)"
   ]
  },
  {
   "cell_type": "code",
   "execution_count": 36,
   "id": "8d84063e",
   "metadata": {},
   "outputs": [],
   "source": [
    "#rename df back to b_df\n",
    "b_df = grouped_df"
   ]
  },
  {
   "cell_type": "code",
   "execution_count": 37,
   "id": "80c85289",
   "metadata": {},
   "outputs": [
    {
     "data": {
      "text/plain": [
       "User_ID        0\n",
       "Impressions    0\n",
       "dtype: int64"
      ]
     },
     "execution_count": 37,
     "metadata": {},
     "output_type": "execute_result"
    }
   ],
   "source": [
    "#Check for missing values\n",
    "b_df.isnull().sum()"
   ]
  },
  {
   "cell_type": "code",
   "execution_count": 39,
   "id": "8964b2f8",
   "metadata": {},
   "outputs": [
    {
     "data": {
      "text/plain": [
       "0"
      ]
     },
     "execution_count": 39,
     "metadata": {},
     "output_type": "execute_result"
    }
   ],
   "source": [
    "#Check for duplicates\n",
    "b_df.duplicated().sum()"
   ]
  },
  {
   "cell_type": "markdown",
   "id": "47da9483",
   "metadata": {},
   "source": [
    "# What we have so far"
   ]
  },
  {
   "cell_type": "raw",
   "id": "2454b22b",
   "metadata": {},
   "source": [
    "Gathered Data:\n",
    "\n",
    "User-Item matrix:\n",
    "    Users = User_ID (from b_df)\n",
    "    Items = News_ID (from n_df)\n",
    "    \n",
    "User-Item Interaction Data\n",
    "    Click (-1) or No Click (-0) = Impressions (from b_df)\n",
    "        \n",
    "Next steps: determine how to match News_ID with Impressions and User_ID to create a user-item matrix"
   ]
  }
 ],
 "metadata": {
  "kernelspec": {
   "display_name": "Python 3 (ipykernel)",
   "language": "python",
   "name": "python3"
  },
  "language_info": {
   "codemirror_mode": {
    "name": "ipython",
    "version": 3
   },
   "file_extension": ".py",
   "mimetype": "text/x-python",
   "name": "python",
   "nbconvert_exporter": "python",
   "pygments_lexer": "ipython3",
   "version": "3.11.5"
  }
 },
 "nbformat": 4,
 "nbformat_minor": 5
}
