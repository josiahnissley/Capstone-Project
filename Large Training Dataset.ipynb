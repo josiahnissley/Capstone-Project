{
 "cells": [
  {
   "cell_type": "code",
   "execution_count": 1,
   "id": "c458d975",
   "metadata": {},
   "outputs": [],
   "source": [
    "#import packages\n",
    "import pandas as pd\n",
    "import pyspark"
   ]
  },
  {
   "cell_type": "code",
   "execution_count": 2,
   "id": "bc224c49",
   "metadata": {},
   "outputs": [],
   "source": [
    "#import news file\n",
    "behaviors = pd.read_csv(r\"C:\\Users\\josia\\Desktop\\Capstone_Project\\MINDlarge_train\\behaviors.tsv\", sep='\\t')"
   ]
  },
  {
   "cell_type": "code",
   "execution_count": 3,
   "id": "484eb4f3",
   "metadata": {},
   "outputs": [],
   "source": [
    "#import behaviors file\n",
    "news = pd.read_csv(r\"C:\\Users\\josia\\Desktop\\Capstone_Project\\MINDlarge_train\\news.tsv\", sep='\\t')"
   ]
  },
  {
   "cell_type": "code",
   "execution_count": 4,
   "id": "9be9ae64",
   "metadata": {},
   "outputs": [],
   "source": [
    "b_df = pd.DataFrame(behaviors)"
   ]
  },
  {
   "cell_type": "code",
   "execution_count": 5,
   "id": "ac42e9dc",
   "metadata": {},
   "outputs": [],
   "source": [
    "n_df = pd.DataFrame(news)"
   ]
  },
  {
   "cell_type": "markdown",
   "id": "d240a15d",
   "metadata": {},
   "source": [
    "# Wrangle the behavior data"
   ]
  },
  {
   "cell_type": "code",
   "execution_count": 6,
   "id": "93c4cf7f",
   "metadata": {},
   "outputs": [
    {
     "name": "stdout",
     "output_type": "stream",
     "text": [
      "<class 'pandas.core.frame.DataFrame'>\n",
      "RangeIndex: 2232747 entries, 0 to 2232746\n",
      "Data columns (total 5 columns):\n",
      " #   Column                                                                                                                                                                     Dtype \n",
      "---  ------                                                                                                                                                                     ----- \n",
      " 0   1                                                                                                                                                                          int64 \n",
      " 1   U87243                                                                                                                                                                     object\n",
      " 2   11/10/2019 11:30:54 AM                                                                                                                                                     object\n",
      " 3   N8668 N39081 N65259 N79529 N73408 N43615 N29379 N32031 N110232 N101921 N12614 N129591 N105760 N60457 N1229 N64932                                                          object\n",
      " 4   N78206-0 N26368-0 N7578-0 N58592-0 N19858-0 N58258-0 N18478-0 N2591-0 N97778-0 N32954-0 N94157-1 N39404-0 N108809-0 N78699-1 N71090-1 N40282-0 N31174-1 N37924-0 N27822-0  object\n",
      "dtypes: int64(1), object(4)\n",
      "memory usage: 85.2+ MB\n"
     ]
    }
   ],
   "source": [
    "b_df.info()"
   ]
  },
  {
   "cell_type": "code",
   "execution_count": 7,
   "id": "3580243e",
   "metadata": {},
   "outputs": [
    {
     "name": "stdout",
     "output_type": "stream",
     "text": [
      "   1   U87243  11/10/2019 11:30:54 AM  \\\n",
      "0  2  U598644   11/12/2019 1:45:29 PM   \n",
      "1  3  U532401  11/13/2019 11:23:03 AM   \n",
      "2  4  U593596  11/12/2019 12:24:09 PM   \n",
      "3  5  U239687   11/14/2019 8:03:01 PM   \n",
      "4  6  U521853  11/11/2019 10:47:31 AM   \n",
      "\n",
      "  N8668 N39081 N65259 N79529 N73408 N43615 N29379 N32031 N110232 N101921 N12614 N129591 N105760 N60457 N1229 N64932  \\\n",
      "0  N56056 N8726 N70353 N67998 N83823 N111108 N107...                                                                  \n",
      "1  N128643 N87446 N122948 N9375 N82348 N129412 N5...                                                                  \n",
      "2  N31043 N39592 N4104 N8223 N114581 N92747 N1207...                                                                  \n",
      "3  N65250 N122359 N71723 N53796 N41663 N41484 N11...                                                                  \n",
      "4  N8668 N29136 N128643 N9740 N9375 N52911 N12090...                                                                  \n",
      "\n",
      "  N78206-0 N26368-0 N7578-0 N58592-0 N19858-0 N58258-0 N18478-0 N2591-0 N97778-0 N32954-0 N94157-1 N39404-0 N108809-0 N78699-1 N71090-1 N40282-0 N31174-1 N37924-0 N27822-0  \n",
      "0  N47996-0 N82719-0 N117066-0 N8491-0 N123784-0 ...                                                                                                                         \n",
      "1              N103852-0 N53474-0 N127836-0 N47925-1                                                                                                                         \n",
      "2  N38902-0 N76434-0 N71593-0 N100073-0 N108736-0...                                                                                                                         \n",
      "3  N76209-0 N48841-0 N67937-0 N62235-0 N6307-0 N3...                                                                                                                         \n",
      "4                N32154-0 N67747-0 N47257-0 N98178-1                                                                                                                         \n"
     ]
    }
   ],
   "source": [
    "print(b_df.head())"
   ]
  },
  {
   "cell_type": "code",
   "execution_count": 8,
   "id": "d802e24f",
   "metadata": {},
   "outputs": [],
   "source": [
    "b_column_names = ['Impression_ID', 'User_ID', 'Time', 'History', 'Impressions']\n",
    "b_df.columns = b_column_names"
   ]
  },
  {
   "cell_type": "code",
   "execution_count": 9,
   "id": "0c6bece8",
   "metadata": {},
   "outputs": [
    {
     "name": "stdout",
     "output_type": "stream",
     "text": [
      "   Impression_ID  User_ID                    Time  \\\n",
      "0              2  U598644   11/12/2019 1:45:29 PM   \n",
      "1              3  U532401  11/13/2019 11:23:03 AM   \n",
      "2              4  U593596  11/12/2019 12:24:09 PM   \n",
      "3              5  U239687   11/14/2019 8:03:01 PM   \n",
      "4              6  U521853  11/11/2019 10:47:31 AM   \n",
      "\n",
      "                                             History  \\\n",
      "0  N56056 N8726 N70353 N67998 N83823 N111108 N107...   \n",
      "1  N128643 N87446 N122948 N9375 N82348 N129412 N5...   \n",
      "2  N31043 N39592 N4104 N8223 N114581 N92747 N1207...   \n",
      "3  N65250 N122359 N71723 N53796 N41663 N41484 N11...   \n",
      "4  N8668 N29136 N128643 N9740 N9375 N52911 N12090...   \n",
      "\n",
      "                                         Impressions  \n",
      "0  N47996-0 N82719-0 N117066-0 N8491-0 N123784-0 ...  \n",
      "1              N103852-0 N53474-0 N127836-0 N47925-1  \n",
      "2  N38902-0 N76434-0 N71593-0 N100073-0 N108736-0...  \n",
      "3  N76209-0 N48841-0 N67937-0 N62235-0 N6307-0 N3...  \n",
      "4                N32154-0 N67747-0 N47257-0 N98178-1  \n"
     ]
    }
   ],
   "source": [
    "print(b_df.head())"
   ]
  },
  {
   "cell_type": "code",
   "execution_count": 10,
   "id": "b8a81ed9",
   "metadata": {},
   "outputs": [
    {
     "name": "stdout",
     "output_type": "stream",
     "text": [
      "0    N47996-0 N82719-0 N117066-0 N8491-0 N123784-0 ...\n",
      "1                N103852-0 N53474-0 N127836-0 N47925-1\n",
      "2    N38902-0 N76434-0 N71593-0 N100073-0 N108736-0...\n",
      "3    N76209-0 N48841-0 N67937-0 N62235-0 N6307-0 N3...\n",
      "4                  N32154-0 N67747-0 N47257-0 N98178-1\n",
      "Name: Impressions, dtype: object\n"
     ]
    }
   ],
   "source": [
    "print(b_df['Impressions'].head())"
   ]
  },
  {
   "cell_type": "markdown",
   "id": "d210b830",
   "metadata": {},
   "source": [
    "# Wrangle the news data"
   ]
  },
  {
   "cell_type": "code",
   "execution_count": 11,
   "id": "71aa9caf",
   "metadata": {},
   "outputs": [
    {
     "name": "stdout",
     "output_type": "stream",
     "text": [
      "<class 'pandas.core.frame.DataFrame'>\n",
      "RangeIndex: 101526 entries, 0 to 101525\n",
      "Data columns (total 8 columns):\n",
      " #   Column                                                                                                                                                                                                                                                                                                                                                                                                                                                                                  Non-Null Count   Dtype \n",
      "---  ------                                                                                                                                                                                                                                                                                                                                                                                                                                                                                  --------------   ----- \n",
      " 0   N88753                                                                                                                                                                                                                                                                                                                                                                                                                                                                                  101526 non-null  object\n",
      " 1   lifestyle                                                                                                                                                                                                                                                                                                                                                                                                                                                                               101526 non-null  object\n",
      " 2   lifestyleroyals                                                                                                                                                                                                                                                                                                                                                                                                                                                                         101526 non-null  object\n",
      " 3   The Brands Queen Elizabeth, Prince Charles, and Prince Philip Swear By                                                                                                                                                                                                                                                                                                                                                                                                                  101526 non-null  object\n",
      " 4   Shop the notebooks, jackets, and more that the royals can't live without.                                                                                                                                                                                                                                                                                                                                                                                                               96111 non-null   object\n",
      " 5   https://assets.msn.com/labs/mind/AAGH0ET.html                                                                                                                                                                                                                                                                                                                                                                                                                                           101526 non-null  object\n",
      " 6   [{\"Label\": \"Prince Philip, Duke of Edinburgh\", \"Type\": \"P\", \"WikidataId\": \"Q80976\", \"Confidence\": 1.0, \"OccurrenceOffsets\": [48], \"SurfaceForms\": [\"Prince Philip\"]}, {\"Label\": \"Charles, Prince of Wales\", \"Type\": \"P\", \"WikidataId\": \"Q43274\", \"Confidence\": 1.0, \"OccurrenceOffsets\": [28], \"SurfaceForms\": [\"Prince Charles\"]}, {\"Label\": \"Elizabeth II\", \"Type\": \"P\", \"WikidataId\": \"Q9682\", \"Confidence\": 0.97, \"OccurrenceOffsets\": [11], \"SurfaceForms\": [\"Queen Elizabeth\"]}]  101523 non-null  object\n",
      " 7   []                                                                                                                                                                                                                                                                                                                                                                                                                                                                                      101520 non-null  object\n",
      "dtypes: object(8)\n",
      "memory usage: 6.2+ MB\n"
     ]
    }
   ],
   "source": [
    "n_df.info()"
   ]
  },
  {
   "cell_type": "code",
   "execution_count": 12,
   "id": "a92fc363",
   "metadata": {},
   "outputs": [
    {
     "name": "stdout",
     "output_type": "stream",
     "text": [
      "   N88753 lifestyle           lifestyleroyals  \\\n",
      "0  N45436      news  newsscienceandtechnology   \n",
      "1  N23144    health                weightloss   \n",
      "2  N86255    health                   medical   \n",
      "3  N93187      news                 newsworld   \n",
      "4  N75236    health                    voices   \n",
      "\n",
      "  The Brands Queen Elizabeth, Prince Charles, and Prince Philip Swear By  \\\n",
      "0    Walmart Slashes Prices on Last-Generation iPads                       \n",
      "1                      50 Worst Habits For Belly Fat                       \n",
      "2  Dispose of unwanted prescription drugs during ...                       \n",
      "3  The Cost of Trump's Aid Freeze in the Trenches...                       \n",
      "4  I Was An NBA Wife. Here's How It Affected My M...                       \n",
      "\n",
      "  Shop the notebooks, jackets, and more that the royals can't live without.  \\\n",
      "0  Apple's new iPad releases bring big deals on l...                          \n",
      "1  These seemingly harmless habits are holding yo...                          \n",
      "2                                                NaN                          \n",
      "3  Lt. Ivan Molchanets peeked over a parapet of s...                          \n",
      "4  I felt like I was a fraud, and being an NBA wi...                          \n",
      "\n",
      "   https://assets.msn.com/labs/mind/AAGH0ET.html  \\\n",
      "0  https://assets.msn.com/labs/mind/AABmf2I.html   \n",
      "1  https://assets.msn.com/labs/mind/AAB19MK.html   \n",
      "2  https://assets.msn.com/labs/mind/AAISxPN.html   \n",
      "3  https://assets.msn.com/labs/mind/AAJgNsz.html   \n",
      "4  https://assets.msn.com/labs/mind/AACk2N6.html   \n",
      "\n",
      "  [{\"Label\": \"Prince Philip, Duke of Edinburgh\", \"Type\": \"P\", \"WikidataId\": \"Q80976\", \"Confidence\": 1.0, \"OccurrenceOffsets\": [48], \"SurfaceForms\": [\"Prince Philip\"]}, {\"Label\": \"Charles, Prince of Wales\", \"Type\": \"P\", \"WikidataId\": \"Q43274\", \"Confidence\": 1.0, \"OccurrenceOffsets\": [28], \"SurfaceForms\": [\"Prince Charles\"]}, {\"Label\": \"Elizabeth II\", \"Type\": \"P\", \"WikidataId\": \"Q9682\", \"Confidence\": 0.97, \"OccurrenceOffsets\": [11], \"SurfaceForms\": [\"Queen Elizabeth\"]}]  \\\n",
      "0  [{\"Label\": \"IPad\", \"Type\": \"J\", \"WikidataId\": ...                                                                                                                                                                                                                                                                                                                                                                                                                                       \n",
      "1  [{\"Label\": \"Adipose tissue\", \"Type\": \"C\", \"Wik...                                                                                                                                                                                                                                                                                                                                                                                                                                       \n",
      "2  [{\"Label\": \"Drug Enforcement Administration\", ...                                                                                                                                                                                                                                                                                                                                                                                                                                       \n",
      "3                                                 []                                                                                                                                                                                                                                                                                                                                                                                                                                       \n",
      "4                                                 []                                                                                                                                                                                                                                                                                                                                                                                                                                       \n",
      "\n",
      "                                                  []  \n",
      "0  [{\"Label\": \"IPad\", \"Type\": \"J\", \"WikidataId\": ...  \n",
      "1  [{\"Label\": \"Adipose tissue\", \"Type\": \"C\", \"Wik...  \n",
      "2                                                 []  \n",
      "3  [{\"Label\": \"Ukraine\", \"Type\": \"G\", \"WikidataId...  \n",
      "4  [{\"Label\": \"National Basketball Association\", ...  \n"
     ]
    }
   ],
   "source": [
    "print(n_df.head())"
   ]
  },
  {
   "cell_type": "code",
   "execution_count": 13,
   "id": "38db4857",
   "metadata": {},
   "outputs": [],
   "source": [
    "n_column_names = ['News_ID', 'Category', 'Subcategory', 'Title', 'Abstract', 'URL', 'Title_Entities', 'Abstract_Entities']\n",
    "n_df.columns = n_column_names"
   ]
  },
  {
   "cell_type": "code",
   "execution_count": 14,
   "id": "705ac58d",
   "metadata": {},
   "outputs": [
    {
     "name": "stdout",
     "output_type": "stream",
     "text": [
      "  News_ID Category               Subcategory  \\\n",
      "0  N45436     news  newsscienceandtechnology   \n",
      "1  N23144   health                weightloss   \n",
      "2  N86255   health                   medical   \n",
      "3  N93187     news                 newsworld   \n",
      "4  N75236   health                    voices   \n",
      "\n",
      "                                               Title  \\\n",
      "0    Walmart Slashes Prices on Last-Generation iPads   \n",
      "1                      50 Worst Habits For Belly Fat   \n",
      "2  Dispose of unwanted prescription drugs during ...   \n",
      "3  The Cost of Trump's Aid Freeze in the Trenches...   \n",
      "4  I Was An NBA Wife. Here's How It Affected My M...   \n",
      "\n",
      "                                            Abstract  \\\n",
      "0  Apple's new iPad releases bring big deals on l...   \n",
      "1  These seemingly harmless habits are holding yo...   \n",
      "2                                                NaN   \n",
      "3  Lt. Ivan Molchanets peeked over a parapet of s...   \n",
      "4  I felt like I was a fraud, and being an NBA wi...   \n",
      "\n",
      "                                             URL  \\\n",
      "0  https://assets.msn.com/labs/mind/AABmf2I.html   \n",
      "1  https://assets.msn.com/labs/mind/AAB19MK.html   \n",
      "2  https://assets.msn.com/labs/mind/AAISxPN.html   \n",
      "3  https://assets.msn.com/labs/mind/AAJgNsz.html   \n",
      "4  https://assets.msn.com/labs/mind/AACk2N6.html   \n",
      "\n",
      "                                      Title_Entities  \\\n",
      "0  [{\"Label\": \"IPad\", \"Type\": \"J\", \"WikidataId\": ...   \n",
      "1  [{\"Label\": \"Adipose tissue\", \"Type\": \"C\", \"Wik...   \n",
      "2  [{\"Label\": \"Drug Enforcement Administration\", ...   \n",
      "3                                                 []   \n",
      "4                                                 []   \n",
      "\n",
      "                                   Abstract_Entities  \n",
      "0  [{\"Label\": \"IPad\", \"Type\": \"J\", \"WikidataId\": ...  \n",
      "1  [{\"Label\": \"Adipose tissue\", \"Type\": \"C\", \"Wik...  \n",
      "2                                                 []  \n",
      "3  [{\"Label\": \"Ukraine\", \"Type\": \"G\", \"WikidataId...  \n",
      "4  [{\"Label\": \"National Basketball Association\", ...  \n"
     ]
    }
   ],
   "source": [
    "print(n_df.head())"
   ]
  },
  {
   "cell_type": "markdown",
   "id": "81039e12",
   "metadata": {},
   "source": [
    "# A look at the data"
   ]
  },
  {
   "cell_type": "markdown",
   "id": "522c6b42",
   "metadata": {},
   "source": [
    "Behavior Data: \n",
    "\n",
    "Impression ID = The ID of an impression.\n",
    "User ID = The anonymous ID of a user.\n",
    "Time = The impression time with format “MM/DD/YYYY HH:MM:SS AM/PM”.\n",
    "History = The news click history (ID list of clicked news) of this user before this impression.\n",
    "Impressions = List of news displayed in this impression and user’s click behaviors on them (1 for click and 0 for non-click).\n",
    "\n",
    "COLUMN\tCONTENT\n",
    "Impression ID:\t123\n",
    "User ID:\tU131\n",
    "Time:\t11/13/2019 8:36:57 AM\n",
    "History:\tN11 N21 N103\n",
    "Impressions:\tN4-1 N34-1 N156-0 N207-0 N198-0\n",
    "\n",
    "\n",
    "______________________________________________________________________________\n",
    "\n",
    "\n",
    "\n",
    "News Data:\n",
    "\n",
    "News ID = ID of news article\n",
    "Category = Category of article\n",
    "Subcategory = Subcategory of article\n",
    "Title = Title of article\n",
    "Abstract = Abstract of article\n",
    "URL = URL of article\n",
    "Title Entities = Entities contained in the title of this news\n",
    "Abstract Entities = Entities contained in the abstract of this news\n",
    "\n",
    "COLUMN CONTENT\n",
    "News ID\tN37378\n",
    "Category\tsports\n",
    "SubCategory\tgolf\n",
    "Title\tPGA Tour winners\n",
    "Abstract\tA gallery of recent winners on the PGA Tour.\n",
    "URL\thttps://www.msn.com/en-us/sports/golf/pga-tour-winners/ss-AAjnQjj?ocid=chopendata\n",
    "Title Entities [{“Label”: “PGA Tour”, “Type”: “O”, “WikidataId”: “Q910409”, “Confidence”: 1.0, “OccurrenceOffsets”: [0], “SurfaceForms”: [“PGA Tour”]}]\n",
    "Abstract Entites [{“Label”: “PGA Tour”, “Type”: “O”, “WikidataId”: “Q910409”, “Confidence”: 1.0, “OccurrenceOffsets”: [35], “SurfaceForms”: [“PGA Tour”]}]\n",
    "\n",
    "______________________________________________________________________________\n",
    "\n",
    "What Data do I need?\n",
    "\n",
    "User-Item matrix:\n",
    "    Users = User_ID (from b_df)\n",
    "    Items = News_ID (from n_df)\n",
    "    \n",
    "Potential User-Item Interaction Data\n",
    "    Binary Interactions\n",
    "        - Impressions\n",
    "        - History\n",
    "        - Impression ID\n",
    "        - Time\n",
    "        \n",
    "What Data do I not need?\n",
    "\n",
    "- URL\n",
    "- Title Entries\n",
    "- Abstract"
   ]
  },
  {
   "cell_type": "code",
   "execution_count": null,
   "id": "d9bcd679",
   "metadata": {},
   "outputs": [],
   "source": []
  }
 ],
 "metadata": {
  "kernelspec": {
   "display_name": "Python 3 (ipykernel)",
   "language": "python",
   "name": "python3"
  },
  "language_info": {
   "codemirror_mode": {
    "name": "ipython",
    "version": 3
   },
   "file_extension": ".py",
   "mimetype": "text/x-python",
   "name": "python",
   "nbconvert_exporter": "python",
   "pygments_lexer": "ipython3",
   "version": "3.11.5"
  }
 },
 "nbformat": 4,
 "nbformat_minor": 5
}
